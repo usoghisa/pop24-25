{
  "cells": [
    {
      "cell_type": "markdown",
      "metadata": {
        "id": "O6W8nbjL6O_D"
      },
      "source": [
        "\n",
        "\n",
        "# ***Functional programming in Python***\n",
        "<!-- <!pre style = 'font-family: Arial, Helvetica, sans-serif;'> -->"
      ]
    },
    {
      "cell_type": "markdown",
      "metadata": {
        "id": "wpaHHaaP6O_E"
      },
      "source": [
        "**This topic includes:**\n",
        "1. higher-order function\n",
        "2. iterator\n",
        "3. generator\n",
        "4. list comprehension.\n",
        "\n",
        "Functional\n",
        "is a **distinct programming paradigm** compared to imperative, procedural, or object-oriented programming.\n",
        "While these other styles focus on specifying exact steps or instructions and modifying the program state,\n",
        "functional programming **emphasizes immutability and pure functions**. Python offers several tools to support functional programming.\n",
        "\n",
        "Python **provides several built-in higher-order functions like filter(), reduce(), and sorted()**\n",
        "that can be used to perform functional programming tasks.\n",
        "Higher-order functions are a key concept in functional programming and can help you write more **abstract and concise code.**\n",
        "\n",
        "Main functional programming elements:\n",
        "1. **First-Class Functions:** they can be passed as arguments, returned from other functions, and assigned to variables.\n",
        "2. **Recursion:** FP often uses recursion instead of iterative loops for repetition.\n",
        "3. **Immutable datatype:** (string, tuples, int).\n",
        "4. Minimize the use of **global variable**.\n",
        "5. Minimize the use of **loops (use recursion instead).**\n",
        "6. Minimize the use of variables that **change state (object state, istance variable).**\n",
        "7. **Function should be pure** same input argument should return same output.\n",
        "8. **Function should be transparent** with no side effect should not change data outside function (avoiding global var).\n",
        "\n",
        "Main benefit are:<br>\n",
        "**Easier to Test:** Since pure functions are predictable, they are easier to test.<br>\n",
        "**Thread-safe for Concurrency:** Pure functions are suitable for concurrent programming."
      ]
    },
    {
      "cell_type": "markdown",
      "source": [
        " <!pre style = 'font-family: Arial, Helvetica, sans-serif;'>\n",
        "_______________________________________\n",
        "Explanation of import statement <br>\n",
        "**import Iterable, Any, Iterator**\n",
        "is  type hints that we can use with MyPy to check type.\n",
        "\n",
        "**Iterable:**\n",
        "Represents any object you can iterate over using a for loop. This **includes lists, tuples, strings, sets, and more.** can be used with the iter()\n",
        "\n",
        "**Any:** type hint that disables type checking.\n",
        "\n",
        "**Iterator:** Represents an object that produces a sequence of values one at a time. Iterators are created by calling the iter() function on an iterable object. They have a __next__() method that is used to retrieve the next value in the sequence.\n",
        "https://dev.to/hakeem/generators-in-python-2cgi\n",
        "\n",
        "All iterators are iterables, but not all iterables are iterators. An iterable can be converted to an iterator using the iter() function.\n",
        "https://realpython.com/python-iterators-iterables/\n",
        "\n",
        "\n",
        "\n",
        "________________________________________\n",
        "**Generators**\n",
        "Generator use Lazy Evaluation, they can represent infinite sequences and generate values only when needed.\n",
        "\n",
        "The generator expression (x ** 2 for x in range(5)) produces the same output as [x ** 2 for x in range(5)] but without creating a list in memory.\n",
        "\n",
        "\n",
        "______________________________________\n",
        "\n"
      ],
      "metadata": {
        "id": "6OxsuYbhJHOJ"
      }
    },
    {
      "cell_type": "markdown",
      "source": [
        "Key differences iterator and generator\n",
        "\n",
        "1.\tIterator: Are created using iter() and collections like lists, tuples, etc.\n",
        "  *   Local variables are not used\n",
        "  *   less memory efficent that generator\n",
        "\n",
        "\n",
        "\n",
        "2.\tGenerators: Are created using functions with yield or generator expressions using ().\n",
        "\n",
        "  *   Generate items on the fly and do not store them in memory.\n",
        "  *   Maintain state between successive calls(Local variables are used).\n",
        "\n"
      ],
      "metadata": {
        "id": "npVuK_HBmKlP"
      }
    },
    {
      "cell_type": "code",
      "source": [
        "# generator is function that return a generator and yeld some values\n",
        "\n",
        "def my_generator():\n",
        "  '''\n",
        "  when is called, it doesn't immediately execute.\n",
        "  it returns a generator object. That we can iterate over using a for loop or the next() function.\n",
        "  '''\n",
        "  yield 1\n",
        "  yield 2\n",
        "  yield 3\n",
        "\n",
        "# Create a generator object and call next()on it.\n",
        "generatorObject = my_generator()\n",
        "print(generatorObject.__next__())\n",
        "print(next(generatorObject))"
      ],
      "metadata": {
        "id": "CIb1UB-PSDso"
      },
      "execution_count": null,
      "outputs": []
    },
    {
      "source": [
        "# CREATE iterator object and output it\n",
        "\n",
        "my_list = [1,2,3]\n",
        "\n",
        "# Create an iterator object\n",
        "my_iterator_obj = iter(my_list)\n",
        "\n",
        "# Iterate using next()\n",
        "print(next(my_iterator_obj), end=(' '))  # Output: 1\n",
        "print(next(my_iterator_obj), end=(' '))  # Output: 2\n",
        "print(next(my_iterator_obj))  # Output: 3\n",
        "# ... and so on till last element after will throw error\n",
        "# print(next(my_iterator_obj))  # Output: StopIteration: error\n",
        "\n",
        "# After iterator object has been accessed need to be recreated\n",
        "my_iterator_obj2 = iter(my_list)\n",
        "# if we do not know the lenght of iterator_object\n",
        "# Iterate using a while loop\n",
        "while True:\n",
        "    try:\n",
        "        item = next(my_iterator_obj2)\n",
        "        print(item , end=(' '))\n",
        "    except StopIteration:\n",
        "        break  # Exit the loop when the iterator is exhausted"
      ],
      "cell_type": "code",
      "metadata": {
        "id": "2v3WJGdpdSq9"
      },
      "execution_count": null,
      "outputs": []
    },
    {
      "source": [
        "from typing import Iterable, Iterator\n",
        "\n",
        "def my_generator(ls: Iterable[int]) -> Iterator[int]:\n",
        "  '''\n",
        "  Iterable[int]  ls parameter should be an iterable of integers,\n",
        "  and Iterator[int] the function will return an iterator of integers.\n",
        "  '''\n",
        "  for item in ls:\n",
        "      yield item * 2\n",
        "\n",
        "ls = [1, 2, 3, 4, 5]\n",
        "generator = my_generator(ls)\n",
        "\n",
        "for item in generator:\n",
        "    print(item , end =(' '))\n",
        "\n",
        "# Create a new generator object to iterate over again\n",
        "generator = my_generator(ls) # Re-initialize the generator to iterate again.\n",
        "print()\n",
        "for i in range(len(ls)):\n",
        "  print(generator.__next__(), end =(' '))\n",
        "  #print(next(generator), end =(' '))\n"
      ],
      "cell_type": "code",
      "metadata": {
        "id": "Pd5Jz6vhLxRN"
      },
      "execution_count": null,
      "outputs": []
    },
    {
      "cell_type": "markdown",
      "source": [
        "### Warm up\n",
        "**List Comprehensions**\n",
        "Provide a concise way to create new sequences (lists, dictionaries, sets, and generators)\n",
        "Applying an expression to each item in an existing iterable (like a list, tuple, or range).\n",
        "\n",
        "Write a list comprehension expression that for an arbitrary list $L = [l_1, \\dots, l_n]$\n",
        "\n",
        "1. creates the list $[l_1+1, \\dots, l_n+1]$; e.g.\n",
        "```python\n",
        "L = [1,2,3]\n",
        "M = YOUR_EXPRESSION\n",
        "print(M) #[2,3,4]\n",
        "```"
      ],
      "metadata": {
        "id": "3m-9PdyVfa2z"
      }
    },
    {
      "cell_type": "code",
      "source": [
        "L = [1,2,3]\n",
        "\n",
        "def add1(e):\n",
        "    return e + 1\n",
        "\n",
        "M = [add1(e) for e in L] # for each element e in L applay function add1(e) to e\n",
        "print(M)"
      ],
      "metadata": {
        "id": "bH3ApelFftN5"
      },
      "execution_count": null,
      "outputs": []
    },
    {
      "cell_type": "code",
      "source": [
        "# we can streamline using the body of func in the espression for list Comprehensions\n",
        "L = [1,2,3]\n",
        "M = [e + 1 for e in L]\n",
        "print(M) #[2,3,4]"
      ],
      "metadata": {
        "id": "o9gV2N8dgO_2"
      },
      "execution_count": null,
      "outputs": []
    },
    {
      "cell_type": "markdown",
      "source": [
        "```python\n",
        "L = [1,2,3]\n",
        "M = YOUR_EXPRESSION\n",
        "print(M) #[1,4,9]\n",
        "```\n",
        "_______________________________\n",
        "```python\n",
        "import math\n",
        "L = [1,2,3]\n",
        "f = math.sqrt #square root function\n",
        "M = YOUR_EXPRESSION\n",
        "print(M) #[1.0, 1.4142135623730951, 1.7320508075688772]\n",
        "```\n",
        "<details>\n",
        "    [f(x) for x in L]\n",
        "</details>\n",
        "\n",
        "_________________________________\n",
        "```python\n",
        "L = [1,1,3]\n",
        "M = YOUR_EXPRESSION\n",
        "print(M) #{1,9}\n",
        "```\n",
        "\n",
        "<details>\n",
        "  <summary>Reveal answer </summary>\n",
        "    {x * x for x in L}\n",
        "</details>\n",
        "__________________________________\n",
        "\n",
        "creates a **set** $\\{l_1^2, \\dots, l_n^2\\}$; e.g.\n",
        "```python\n",
        "L = [1,1,3]\n",
        "M = YOUR_EXPRESSION\n",
        "print(M) #{1,9}\n",
        "```\n",
        "\n",
        "<details>\n",
        "  <summary>\n",
        "     Reveal answer\n",
        "  </summary>\n",
        "\n",
        "    {x * x for x in L}\n",
        "</details>"
      ],
      "metadata": {
        "id": "RIt25ujTqT9e"
      }
    },
    {
      "cell_type": "markdown",
      "source": [
        "###### Write a list comprehension expression that for arbitrary lists $L = [l_1, \\dots, l_n]$ and $M = [m_1, \\dots, m_k]$ creates a lists of all multiplications $n_i m_j$; e.g.\n",
        "```python\n",
        "L = [1,2]\n",
        "M = [3,4]\n",
        "P = YOUR_EXPRESSION\n",
        "print(P) #[3, 4, 6, 8]\n",
        "```\n",
        "\n",
        "<details>\n",
        "  <summary>\n",
        "     Reveal answer\n",
        "  </summary>\n",
        "\n",
        "    [x * y for x in L for y in M]\n",
        "    \n",
        "    #equivalent code is\n",
        "    P = []\n",
        "    for x in L:\n",
        "      for y in M:\n",
        "        P.append(x*y)\n",
        "</details>"
      ],
      "metadata": {
        "id": "1miu5Hh3qT7W"
      }
    },
    {
      "cell_type": "markdown",
      "source": [
        "#### Generators\n",
        "\n",
        "###### What is `(x * x for x in L)` and how it is different to `[x * x for x in L]`?\n",
        "\n",
        "<details>\n",
        "  <summary>\n",
        "     Reveal answer\n",
        "  </summary>\n",
        "    (x * x for x in L) is generation expression; a \"lazy\" list comprehension that does not materialise list immediately\n",
        "</details>"
      ],
      "metadata": {
        "id": "Ghy3EndiqT3Z"
      }
    },
    {
      "cell_type": "markdown",
      "source": [
        "#### What runs faster\n",
        "```python\n",
        "list_comp = [x for x in range(0, 9999) if x % 2 == 0]\n",
        "```\n",
        "or  \n",
        "```python\n",
        "gen_comp = (x for x in range(0, 9999) if x % 2 == 0)\n",
        "```"
      ],
      "metadata": {
        "id": "On1iGZosqTzu"
      }
    },
    {
      "cell_type": "code",
      "source": [
        "import timeit\n",
        "\n",
        "# Time for list comprehension\n",
        "list_comp_time = timeit.timeit(\"[x for x in range(0, 9999) if x % 2 == 0]\", number=1000)\n",
        "\n",
        "# Time for generator expression\n",
        "gen_comp_time = timeit.timeit(\"(x for x in range(0, 9999) if x % 2 == 0)\", number=1000)\n",
        "\n",
        "print(\"List comprehension time:\", list_comp_time)\n",
        "print(\"Generator expression time:\", gen_comp_time)"
      ],
      "metadata": {
        "colab": {
          "base_uri": "https://localhost:8080/"
        },
        "id": "8KZp2FLyy497",
        "outputId": "3c380cdc-9747-43c1-da7a-d20049e7f580"
      },
      "execution_count": null,
      "outputs": [
        {
          "output_type": "stream",
          "name": "stdout",
          "text": [
            "List comprehension time: 0.5415492140018614\n",
            "Generator expression time: 0.00055722999968566\n"
          ]
        }
      ]
    },
    {
      "cell_type": "markdown",
      "source": [
        "#### What is the result of `print(list_comp)` and `print(gen_comp)`? Why is it so much different?\n",
        "\n",
        "#### How do we print all even objects in the range `[0, 9999)` using `gen_comp`?\n",
        "\n",
        "<details>\n",
        "  <summary>\n",
        "     Reveal answer\n",
        "  </summary>\n",
        "    We materialise gen_comp into a collection (list, set,...) or iterate over it\n",
        "\n",
        "    print(list(gen_comp))\n",
        "    #or\n",
        "    for num in gen_comp:\n",
        "      print(num)\n",
        "</details>"
      ],
      "metadata": {
        "id": "U399j_vcqTwW"
      }
    },
    {
      "cell_type": "code",
      "source": [
        "list_comp = [x for x in range(0, 10) if x % 2 == 0]\n",
        "gen_comp = (x for x in range(0, 10) if x % 2 == 0)\n",
        "print(list_comp)\n",
        "print(gen_comp)\n",
        "print(list(gen_comp))"
      ],
      "metadata": {
        "colab": {
          "base_uri": "https://localhost:8080/"
        },
        "id": "1ERtzJhdzm7r",
        "outputId": "db862a52-ca47-4556-c0a1-5c002e58baf9"
      },
      "execution_count": null,
      "outputs": [
        {
          "output_type": "stream",
          "name": "stdout",
          "text": [
            "[0, 2, 4, 6, 8]\n",
            "<generator object <genexpr> at 0x7f2edc78f290>\n",
            "[0, 2, 4, 6, 8]\n"
          ]
        }
      ]
    },
    {
      "cell_type": "markdown",
      "source": [
        "#### ***Enumerate***\n",
        "Automatic Indexing: providing both the index and the value of each element in an iterable.\n",
        "\n",
        "What is `X` in\n",
        "\n",
        "```python\n",
        "X = enumerate([\"apple\", \"banana\", “carrot”])\n",
        "X = enumerate([\"apple\", \"banana\", “carrot”], 100)\n",
        "```\n",
        "<details>\n",
        "  <summary>\n",
        "     Reveal answer\n",
        "  </summary>\n",
        "\n",
        "    for index, fruit in X:\n",
        "        print(f\"{index}: {fruit}\")\n",
        "\n",
        "</details>"
      ],
      "metadata": {
        "id": "SzJBe8z2qTuH"
      }
    },
    {
      "cell_type": "code",
      "source": [
        "X = enumerate([\"apple\", \"banana\", \"carrot\"])\n",
        "#X = enumerate([\"apple\", \"banana\", \"carrot\"]], 100)\n",
        "print(X)"
      ],
      "metadata": {
        "colab": {
          "base_uri": "https://localhost:8080/"
        },
        "id": "8ZLnDCM30lyo",
        "outputId": "b081b4e3-8da0-405b-fe05-d965f4105f86"
      },
      "execution_count": null,
      "outputs": [
        {
          "output_type": "stream",
          "name": "stdout",
          "text": [
            "<enumerate object at 0x7ba9d59ada40>\n"
          ]
        }
      ]
    },
    {
      "cell_type": "markdown",
      "source": [
        "##### Map and Filter\n",
        "What is `X` in\n",
        "```python\n",
        "import math\n",
        "X = map(math.sqrt, [1, 2, 3, 4, 5, 6])\n",
        "X2 = filter(is_even, [1, 2, 3, 4, 5, 6])\n",
        "```\n",
        "<details>\n",
        "  <summary>\n",
        "     Reveal answer\n",
        "  </summary>\n",
        "    The map and filter function returns an object, which is an iterator. To access the elements we need to cast as list or use for loop\n",
        "\n",
        "    print(list(X))\n",
        "    # or\n",
        "    map_object = map(math.sqrt, [1, 2, 3, 4, 5, 6])\n",
        "    for e in map_object:\n",
        "        print(e)\n",
        "\n",
        "    # use filter---------------\n",
        "    def is_even(x):\n",
        "      return (x % 2 == 0)\n",
        "\n",
        "    filter_even_obj = filter(is_even, [1, 2, 3, 4, 5, 6])\n",
        "    print(list(filter_even_obj))\n",
        "</details>"
      ],
      "metadata": {
        "id": "G3KfF42tqTqL"
      }
    },
    {
      "cell_type": "code",
      "source": [
        "import math\n",
        "X = map(math.sqrt, [1, 2, 3, 4, 5, 6])\n",
        "print(X)"
      ],
      "metadata": {
        "colab": {
          "base_uri": "https://localhost:8080/"
        },
        "id": "7r61I4nt57Jn",
        "outputId": "0bea53e6-cbab-410d-ac9e-78917f3883b0"
      },
      "execution_count": null,
      "outputs": [
        {
          "output_type": "stream",
          "name": "stdout",
          "text": [
            "<map object at 0x7ba9f2bd9720>\n"
          ]
        }
      ]
    },
    {
      "cell_type": "markdown",
      "source": [
        "##### Zip\n",
        "What is `X`?\n",
        "```python\n",
        "X = zip([1, 2, 3, 4, 5], (\"apple\", \"banana\", \"carrot\"))\n",
        "```\n",
        "<details>\n",
        "  <summary>\n",
        "     Reveal answer\n",
        "  </summary>\n",
        "    We materialise X into a collection\n",
        "\n",
        "    print(list(X))\n",
        "    #or\n",
        "    X = zip([1, 2, 3, 4, 5], (\"apple\", \"banana\", \"carrot\"))\n",
        "    for num in X:\n",
        "      print(num)\n",
        "</details>"
      ],
      "metadata": {
        "id": "e8nhWsylqTmO"
      }
    },
    {
      "cell_type": "code",
      "source": [
        "X = zip([1, 2, 3, 4, 5], (\"apple\", \"banana\", \"carrot\"))\n"
      ],
      "metadata": {
        "id": "vzvW-GfgCx1c"
      },
      "execution_count": null,
      "outputs": []
    },
    {
      "cell_type": "markdown",
      "source": [
        "### Exercise on map and zip\n",
        "Provide your own implementation `my_map` of the function `map` as follows.\n",
        "\n",
        "1. First, consider that `my_map(f, C)` for a collection `C = c1, c2, ...` returns a list `f(c1), f(c2),...`\n",
        "\n",
        "- Annotate types in your implementation\n",
        "<details>\n",
        "<summary>Reveal answer</summary>\n",
        "<pre>\n",
        "    from typing import Iterable, Callable, Any, Iterator\n",
        "    def f(x):\n",
        "      return x * x\n",
        "    def my_map(f: Callable[[Any], Any], C: Iterable[Any]) -> list[Any]:\n",
        "      X = [ f(x) for x in C ]\n",
        "      return list(X)\n",
        "    print(my_map(f, [1,2,3]))\n",
        "</pre>\n",
        "</details>\n",
        "\n",
        "2. Second, consider that `my_map(f, C)` for a collection `C = c1, c2, ...` returns a generator for the sequence `f(c1), f(c2),...`\n",
        "\n",
        "- Annotate types your implementation\n",
        "<details>\n",
        "<summary>Reveal answer</summary>\n",
        "<pre>\n",
        "    from typing import Iterable, Callable, Any, Iterator\n",
        "    def f2(x):\n",
        "      return x + 1\n",
        "    def my_map2(f: Callable[[Any], Any], C: Iterable[Any]) -> Iterator[Any]:\n",
        "      '''Maps function f2 over a collection, and returns an iterator'''\n",
        "      X = ( f2(x) for x in C )\n",
        "      return X\n",
        "    \n",
        "    print(my_map2(f2, [1,2,3]))\n",
        "    print(list(my_map2(f2, [1,2,3])))\n",
        "</pre>\n",
        "</details>\n",
        "\n",
        "\n"
      ],
      "metadata": {
        "id": "Di41l_8-EUFH"
      }
    },
    {
      "cell_type": "code",
      "source": [
        "# SOLUTION map 1\n",
        "\n",
        "\n",
        "\n",
        "\n",
        "\n",
        "\n",
        "\n",
        "\n",
        "\n",
        "\n",
        "\n",
        "\n",
        "from typing import Iterable, Callable, Any, Iterator\n",
        "def f(x):\n",
        "  return x * x\n",
        "\n",
        "def my_map(f: Callable[[Any], Any], C: Iterable[Any]) -> list[Any]:\n",
        "  X = [ f(x) for x in C ]\n",
        "  return list(X)\n",
        "print(my_map(f, [1,2,3]))\n"
      ],
      "metadata": {
        "id": "OuK41FkWFf_W"
      },
      "execution_count": null,
      "outputs": []
    },
    {
      "source": [
        "# SOlUTION map2\n",
        "\n",
        "\n",
        "\n",
        "\n",
        "\n",
        "\n",
        "\n",
        "\n",
        "\n",
        "\n",
        "\n",
        "\n",
        "\n",
        "\n",
        "\n",
        "\n",
        "from typing import Iterable, Callable, Any, Iterator\n",
        "def f2(x):\n",
        "  return x + 1\n",
        "def my_map2(f: Callable[[Any], Any], C: Iterable[Any]) -> Iterator[Any]:\n",
        "  '''Maps function f2 over a collection, and returns an iterator'''\n",
        "  X = ( f2(x) for x in C )\n",
        "  return X\n",
        "\n",
        "print(my_map2(f2, [1,2,3]))\n",
        "print(list(my_map2(f2, [1,2,3])))\n"
      ],
      "cell_type": "code",
      "metadata": {
        "colab": {
          "base_uri": "https://localhost:8080/"
        },
        "id": "dLcfFwFkKS2K",
        "outputId": "6ab2030f-4516-42e2-962e-89c8c4ad3950"
      },
      "execution_count": null,
      "outputs": [
        {
          "output_type": "stream",
          "name": "stdout",
          "text": [
            "<generator object my_map2.<locals>.<genexpr> at 0x7ba9d581c580>\n",
            "[2, 3, 4]\n"
          ]
        }
      ]
    },
    {
      "cell_type": "markdown",
      "source": [
        "###### Provide your own implementation `my_zip` of the binary version of the function `zip` as follows.\n",
        "\n",
        "1. First, consider that `my_zip(f, L, M)` for collections `L = l1, l2, ..., ln` and `M = m1, m2, ..., mp` returns a list `(l1,m1), (l2,m2),...(lk,mk)` where `k = min(n,p)`\n",
        "- Annotate types in your implementation\n",
        "<details>\n",
        "<summary>Reveal answer</summary>\n",
        "<pre>\n",
        "  from typing import Iterable, Any, Tuple, List\n",
        "  def my_zip(L: Iterable[Any], M: Iterable[Any]) -> List[Tuple[Any, Any]]:\n",
        "    Mi = iter(M)\n",
        "    Li = iter(L)\n",
        "    result = []\n",
        "    while True:\n",
        "        try:\n",
        "          next_L = next(Li)\n",
        "          next_M = next(Mi)\n",
        "          result.append((next_L, next_M))\n",
        "        except StopIteration:\n",
        "          break\n",
        "    return result\n",
        "\n",
        "  L = ['a', 'b', 'c']\n",
        "  M = [1, 2, 3, 4, 5]\n",
        "  zipped_result = my_zip(L, M)\n",
        "  print(zipped_result)\n",
        "</pre>\n",
        "</details>\n",
        "\n",
        "\n",
        "2. Second, consider that `my_zip(f, L, M)` for collections `L = l1, l2, ..., ln` and `M = m1, m2, ..., mp` returns an iterator to the sequence `(l1,m1), (l2,m2),...(lk,mk)`\n",
        "- Annotate types your implementation\n",
        "<details>\n",
        "<summary>Reveal answer</summary>\n",
        "<pre>\n",
        "  from typing import Iterable, Iterator, Any, Tuple, List\n",
        "  def my_zip(L : Iterable[Any], M : Iterable[Any]) -> Iterator[tuple[Any, Any]]:\n",
        "    Mi = iter(M)\n",
        "    Li = iter(L)\n",
        "    result = []\n",
        "    while True:\n",
        "        try:\n",
        "          next_L = next(Li)\n",
        "          next_M = next(Mi)\n",
        "          result.append((next_L, next_M))\n",
        "        except StopIteration:\n",
        "          break\n",
        "    return iter(result)\n",
        "\n",
        "  L = ['a', 'b', 'c']\n",
        "  M = [1, 2, 3, 4, 5]\n",
        "  zipped_result = my_zip(L, M)\n",
        "  print(next(zipped_result))\n",
        "  print(list(zipped_result))\n",
        "  zipped_result = my_zip(L, M)\n",
        "  print(zipped_result)\n",
        "</pre>\n",
        "</details>\n",
        "\n",
        "\n",
        "\n",
        "\n",
        "\n",
        "\n",
        "\n",
        "\n"
      ],
      "metadata": {
        "id": "NxWJd3-1EUAN"
      }
    },
    {
      "source": [
        "  # SOLUTION zip 1\n",
        "\n",
        "\n",
        "\n",
        "\n",
        "\n",
        "\n",
        "\n",
        "\n",
        "\n",
        "\n",
        "\n",
        "\n",
        "\n",
        "\n",
        "\n",
        "\n",
        "  from typing import Iterable, Any, Tuple, List\n",
        "  def my_zip(L: Iterable[Any], M: Iterable[Any]) -> List[Tuple[Any, Any]]:\n",
        "    Mi = iter(M)\n",
        "    Li = iter(L)\n",
        "    result = []\n",
        "    while True:\n",
        "        try:\n",
        "          next_L = next(Li)\n",
        "          next_M = next(Mi)\n",
        "          result.append((next_L, next_M))\n",
        "        except StopIteration:\n",
        "          break\n",
        "    return result\n",
        "\n",
        "  L = ['a', 'b', 'c']\n",
        "  M = [1, 2, 3, 4, 5]\n",
        "  zipped_result = my_zip(L, M)\n",
        "  print(zipped_result)"
      ],
      "cell_type": "code",
      "metadata": {
        "colab": {
          "base_uri": "https://localhost:8080/"
        },
        "id": "sTBBWztLhUuE",
        "outputId": "40786caa-c7c5-4337-b2fd-c35637a1e032"
      },
      "execution_count": null,
      "outputs": [
        {
          "output_type": "stream",
          "name": "stdout",
          "text": [
            "[('a', 1), ('b', 2), ('c', 3)]\n"
          ]
        }
      ]
    },
    {
      "cell_type": "code",
      "source": [
        "# SOLUTION zip 2\n",
        "\n",
        "\n",
        "\n",
        "\n",
        "\n",
        "\n",
        "\n",
        "\n",
        "\n",
        "\n",
        "\n",
        "\n",
        "\n",
        "\n",
        "\n",
        "\n",
        "\n",
        "\n",
        "\n",
        "from typing import Iterable, Iterator, Any, Tuple, List\n",
        "\n",
        "def my_zip(L : Iterable[Any], M : Iterable[Any]) -> Iterator[tuple[Any, Any]]:\n",
        "  Mi = iter(M)\n",
        "  Li = iter(L)\n",
        "  while True:\n",
        "      try:\n",
        "        yield (next(Li), next(Mi))\n",
        "      except StopIteration:\n",
        "        break\n",
        "\n",
        "L = ['a', 'b', 'c']\n",
        "M = [1, 2, 3, 4, 5]\n",
        "zipped_result = my_zip(L, M)\n",
        "print(list(zipped_result))\n"
      ],
      "metadata": {
        "colab": {
          "base_uri": "https://localhost:8080/",
          "height": 122
        },
        "collapsed": true,
        "id": "s5uGVN90YPUH",
        "outputId": "3890b24a-de8f-4eab-d6b4-4c30dbc822f5"
      },
      "execution_count": 4,
      "outputs": [
        {
          "output_type": "stream",
          "name": "stdout",
          "text": [
            "[('a', 1), ('b', 2), ('c', 3)]\n"
          ]
        },
        {
          "output_type": "execute_result",
          "data": {
            "text/plain": [
              "\"\\n\\n  from typing import Iterable, Iterator, Any, Tuple, List\\n\\n  def my_zip(L : Iterable[Any], M : Iterable[Any]) -> Iterator[tuple[Any, Any]]:\\n    Mi = iter(M)\\n    Li = iter(L)\\n    result = []\\n    while True:\\n        try:\\n          next_L = next(Li)\\n          next_M = next(Mi)\\n          result.append((next_L, next_M))\\n        except StopIteration:\\n          break\\n    return iter(result)\\n\\n  L = ['a', 'b', 'c']\\n  M = [1, 2, 3, 4, 5]\\n  zipped_result = my_zip(L, M)\\n  print(next(zipped_result))\\n  print(list(zipped_result))\\n  zipped_result = my_zip(L, M)\\n  print(zipped_result)\\n\\n\\n\""
            ],
            "application/vnd.google.colaboratory.intrinsic+json": {
              "type": "string"
            }
          },
          "metadata": {},
          "execution_count": 4
        }
      ]
    },
    {
      "source": [
        "!pip install mypy==1.5.1"
      ],
      "cell_type": "code",
      "metadata": {
        "id": "wR6XST4Y0XNv"
      },
      "execution_count": null,
      "outputs": []
    },
    {
      "cell_type": "code",
      "source": [
        "# old zip4\n",
        "\n",
        "\"\"\"\n",
        "\n",
        "  from typing import Iterable, Iterator, Any, Tuple, List\n",
        "\n",
        "  def my_zip(L : Iterable[Any], M : Iterable[Any]) -> Iterator[tuple[Any, Any]]:\n",
        "    Mi = iter(M)\n",
        "    Li = iter(L)\n",
        "    result = []\n",
        "    while True:\n",
        "        try:\n",
        "          next_L = next(Li)\n",
        "          next_M = next(Mi)\n",
        "          result.append((next_L, next_M))\n",
        "        except StopIteration:\n",
        "          break\n",
        "    return iter(result)\n",
        "\n",
        "  L = ['a', 'b', 'c']\n",
        "  M = [1, 2, 3, 4, 5]\n",
        "  zipped_result = my_zip(L, M)\n",
        "  print(next(zipped_result))\n",
        "  print(list(zipped_result))\n",
        "  zipped_result = my_zip(L, M)\n",
        "  print(zipped_result)\n",
        "\n",
        "\n",
        "\"\"\""
      ],
      "metadata": {
        "colab": {
          "base_uri": "https://localhost:8080/",
          "height": 105
        },
        "id": "LgkUH4zd1HIZ",
        "outputId": "ca7f7645-bb59-40e6-e355-0de3814f1ef3"
      },
      "execution_count": 5,
      "outputs": [
        {
          "output_type": "execute_result",
          "data": {
            "text/plain": [
              "\"\\n\\n  from typing import Iterable, Iterator, Any, Tuple, List\\n\\n  def my_zip(L : Iterable[Any], M : Iterable[Any]) -> Iterator[tuple[Any, Any]]:\\n    Mi = iter(M)\\n    Li = iter(L)\\n    result = []\\n    while True:\\n        try:\\n          next_L = next(Li)\\n          next_M = next(Mi)\\n          result.append((next_L, next_M))\\n        except StopIteration:\\n          break\\n    return iter(result)\\n\\n  L = ['a', 'b', 'c']\\n  M = [1, 2, 3, 4, 5]\\n  zipped_result = my_zip(L, M)\\n  print(next(zipped_result))\\n  print(list(zipped_result))\\n  zipped_result = my_zip(L, M)\\n  print(zipped_result)\\n\\n\\n\""
            ],
            "application/vnd.google.colaboratory.intrinsic+json": {
              "type": "string"
            }
          },
          "metadata": {},
          "execution_count": 5
        }
      ]
    },
    {
      "cell_type": "markdown",
      "source": [],
      "metadata": {
        "id": "SC1GXMLVET3h"
      }
    },
    {
      "cell_type": "markdown",
      "source": [],
      "metadata": {
        "id": "FQVblIq-ETxj"
      }
    },
    {
      "cell_type": "markdown",
      "source": [],
      "metadata": {
        "id": "R3y8DdwDETus"
      }
    },
    {
      "cell_type": "markdown",
      "source": [],
      "metadata": {
        "id": "kubqw5EBETns"
      }
    },
    {
      "cell_type": "markdown",
      "source": [],
      "metadata": {
        "id": "QfTE-cZaETgh"
      }
    },
    {
      "cell_type": "markdown",
      "source": [],
      "metadata": {
        "id": "t3oI-cl2ETb5"
      }
    },
    {
      "cell_type": "markdown",
      "source": [],
      "metadata": {
        "id": "yHF3REepETVR"
      }
    },
    {
      "cell_type": "markdown",
      "source": [],
      "metadata": {
        "id": "dG4Mb7-jETO7"
      }
    },
    {
      "cell_type": "markdown",
      "source": [],
      "metadata": {
        "id": "ZGQeFxx-ETLz"
      }
    },
    {
      "cell_type": "markdown",
      "source": [],
      "metadata": {
        "id": "rAOmZCf_ETEZ"
      }
    },
    {
      "cell_type": "markdown",
      "source": [],
      "metadata": {
        "id": "i0dG7qdAETA1"
      }
    },
    {
      "cell_type": "markdown",
      "metadata": {
        "id": "bMt95s1o6O_F"
      },
      "source": [
        "What following will output"
      ]
    },
    {
      "cell_type": "code",
      "execution_count": null,
      "metadata": {
        "id": "e4oIqY1E6O_G"
      },
      "outputs": [],
      "source": [
        "list({\"a\", \"b\", \"c\"})"
      ]
    },
    {
      "cell_type": "code",
      "execution_count": null,
      "metadata": {
        "id": "Xa1a9Wmx6O_H"
      },
      "outputs": [],
      "source": [
        "list(enumerate([\"apple\", \"banana\", \"carrot\"]))"
      ]
    },
    {
      "cell_type": "code",
      "execution_count": null,
      "metadata": {
        "id": "ZXZwLUSZ6O_H"
      },
      "outputs": [],
      "source": [
        "list(enumerate([\"apple\", \"banana\", \"carrot\"], 100))"
      ]
    },
    {
      "cell_type": "code",
      "execution_count": null,
      "metadata": {
        "id": "66Q8glpU6O_I"
      },
      "outputs": [],
      "source": [
        "fruits = [\"apple\", \"banana\", \"carrot\"]\n",
        "\n",
        "# Using enumerate to get index and value\n",
        "for index, value in enumerate(fruits,1):\n",
        "    print(f\"Index {index}: {value}\")"
      ]
    },
    {
      "cell_type": "markdown",
      "source": [],
      "metadata": {
        "id": "0R_29G88uOEG"
      }
    },
    {
      "cell_type": "markdown",
      "metadata": {
        "id": "1wjkflxC6O_I"
      },
      "source": [
        "#### Higher Order Functions\n",
        "allows an elegant non-redundant code"
      ]
    },
    {
      "cell_type": "code",
      "execution_count": null,
      "metadata": {
        "id": "LoYQiC8h6O_J",
        "outputId": "914cc4b8-a5f0-489c-c7cb-c1c6972ddcad",
        "colab": {
          "base_uri": "https://localhost:8080/"
        }
      },
      "outputs": [
        {
          "output_type": "execute_result",
          "data": {
            "text/plain": [
              "[2, 4, 6]"
            ]
          },
          "metadata": {},
          "execution_count": 1
        }
      ],
      "source": [
        "# Filter\n",
        "def is_even(x):\n",
        "    return (x % 2 == 0)\n",
        "list(filter(is_even, [1, 2, 3, 4, 5, 6]))\n"
      ]
    },
    {
      "cell_type": "code",
      "execution_count": null,
      "metadata": {
        "id": "REWdUy2V6O_J"
      },
      "outputs": [],
      "source": [
        "# Map alone will rtn map obj\n",
        "list(map(is_even, [1, 2, 3, 4, 5]))\n"
      ]
    },
    {
      "cell_type": "code",
      "execution_count": null,
      "metadata": {
        "id": "QaRhmqw56O_K"
      },
      "outputs": [],
      "source": [
        "# Zip\n",
        "list(zip([1, 2, 3, 4, 5], [\"apple\", \"banana\", \"carrot\"]))"
      ]
    },
    {
      "cell_type": "code",
      "execution_count": null,
      "metadata": {
        "id": "JcaslgAa6O_K"
      },
      "outputs": [],
      "source": [
        "# List comprehensions\n",
        "# (<expression> for <var> in <iterable>)\n",
        "# (<expression> for <var> in <iterable> if <condition>)\n",
        "ls = [1, 2, 3, 4]\n",
        "comp = []\n",
        "for x in ls:\n",
        "    comp.append(x * 2)\n",
        "print(comp)"
      ]
    },
    {
      "cell_type": "code",
      "execution_count": null,
      "metadata": {
        "id": "DtVumpyD6O_K"
      },
      "outputs": [],
      "source": [
        "comp = [x * 2 for x in ls]\n",
        "print(comp)\n"
      ]
    },
    {
      "cell_type": "code",
      "execution_count": null,
      "metadata": {
        "id": "N3YAceIS6O_K"
      },
      "outputs": [],
      "source": [
        "# Nested comprehensions\n",
        "l = [1, 2, 3]\n",
        "m = \"abc\"\n",
        "comp = []\n",
        "for x in l:\n",
        "    for y in m:\n",
        "        comp.append(str(x) + y)\n",
        "\n",
        "comp == [str(x) + y for x in l for y in m]\n",
        "print(comp)"
      ]
    },
    {
      "cell_type": "code",
      "execution_count": null,
      "metadata": {
        "id": "uMXVtw5s6O_L"
      },
      "outputs": [],
      "source": [
        "# Set comprehensions: same idea, use { } instead of [ ]\n",
        "set_comp = { x for x in [1, 2, 3, 4] if is_even(x)}\n",
        "set_comp == {2, 4}\n",
        "print(set_comp)"
      ]
    },
    {
      "cell_type": "code",
      "execution_count": null,
      "metadata": {
        "id": "80_UNI4p6O_L"
      },
      "outputs": [],
      "source": [
        "# Generator comprehensions: \"Lazy list comprehensions\"\n",
        "# Swap [ ] for ( )\n",
        "# Generator comprehensions are useful with large lssets\n",
        "# they generate items on the fly\n",
        "# do not store the entire list in memory.\n",
        "\n",
        "# (<expression> for <var> in <iterable>)\n",
        "# (<expression> for <var> in <iterable> if <condition>)\n",
        "\n",
        "\n",
        "list_comp = [x for x in range(0, 10) if is_even(x)]\n",
        "gen_comp = (x for x in range(0, 10) if is_even(x))\n",
        "print(list_comp, gen_comp)"
      ]
    },
    {
      "cell_type": "markdown",
      "metadata": {
        "id": "TW6zDD9L6O_L"
      },
      "source": [
        "#### extra -------------------------------"
      ]
    },
    {
      "cell_type": "code",
      "execution_count": null,
      "metadata": {
        "id": "_OtQB0bA6O_L"
      },
      "outputs": [],
      "source": [
        "x = [int(x) for x in input().split()]\n",
        "print(x)\n"
      ]
    }
  ],
  "metadata": {
    "kernelspec": {
      "display_name": "Python 3",
      "language": "python",
      "name": "python3"
    },
    "language_info": {
      "codemirror_mode": {
        "name": "ipython",
        "version": 3
      },
      "file_extension": ".py",
      "mimetype": "text/x-python",
      "name": "python",
      "nbconvert_exporter": "python",
      "pygments_lexer": "ipython3",
      "version": "3.11.6"
    },
    "colab": {
      "provenance": []
    }
  },
  "nbformat": 4,
  "nbformat_minor": 0
}